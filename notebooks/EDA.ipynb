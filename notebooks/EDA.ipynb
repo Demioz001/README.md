{
 "cells": [
  {
   "cell_type": "code",
   "execution_count": null,
   "metadata": {},
   "outputs": [],
   "source": [
    "import pandas as pd\n",
    "import streamlit as st\n",
    "import plotly.express as px "
   ]
  },
  {
   "cell_type": "code",
   "execution_count": null,
   "metadata": {},
   "outputs": [],
   "source": [
    "# leer los datos\n",
    "car_data = pd.read_csv('vehicles_us.csv') "
   ]
  },
  {
   "cell_type": "code",
   "execution_count": null,
   "metadata": {},
   "outputs": [],
   "source": [
    "# Histograma de precios de vehículos\n",
    "fig_price = px.histogram(car_data, x='price', nbins=50, title='Distribución de precios de vehículos')\n",
    "fig_price.show()"
   ]
  },
  {
   "cell_type": "code",
   "execution_count": null,
   "metadata": {},
   "outputs": [],
   "source": [
    "# Gráfico de dispersión de precio versus odómetro\n",
    "fig_price_odometer = px.scatter(car_data, x='odometer', y='price', color='condition',\n",
    "                                title='Precio versus odómetro por condición del vehículo')\n",
    "fig_price_odometer.show()"
   ]
  },
  {
   "cell_type": "code",
   "execution_count": null,
   "metadata": {},
   "outputs": [],
   "source": [
    "# Diagrama de caja de precios de vehículos por tipo\n",
    "fig_price_type = px.box(car_data, x='type', y='price', color='type', \n",
    "                        title='Precios de vehículos por tipo')\n",
    "fig_price_type.show()"
   ]
  },
  {
   "cell_type": "code",
   "execution_count": null,
   "metadata": {},
   "outputs": [],
   "source": [
    "# Gráfico de barras de vehículos por tipo de combustible\n",
    "fig_fuel = px.bar(car_data, x='Tipo de combustible', title='Conteo de vehículos por tipo de combustible')\n",
    "fig_fuel.show()"
   ]
  },
  {
   "cell_type": "code",
   "execution_count": null,
   "metadata": {},
   "outputs": [],
   "source": [
    "# Gráfico de líneas del precio promedio a lo largo del tiempo\n",
    "car_data['date_posted'] = pd.to_datetime(car_data['date_posted'])\n",
    "df_avg_price = car_data.groupby('date_posted')['price'].mean().reset_index()\n",
    "fig_avg_price = px.line(df_avg_price, x='date_posted', y='price', \n",
    "                        title='Precio promedio del vehículo a lo largo del tiempo')\n",
    "fig_avg_price.show()"
   ]
  },
  {
   "cell_type": "code",
   "execution_count": null,
   "metadata": {},
   "outputs": [],
   "source": [
    "# Filtrar los 10 modelos más populares por marca\n",
    "popular_models = car_data.groupby(['model'])['model'].count().nlargest(10)\n",
    "\n",
    "# Crear un gráfico de barras apiladas para mostrar los modelos más populares por marca\n",
    "fig = px.bar(car_data[car_data['model'].isin(popular_models.index)], x='model', color='model', \n",
    "             title='Top 10 Modelos Más Populares por Marca',\n",
    "             labels={'model': 'Modelo', 'count': 'Cantidad'})\n",
    "\n",
    "# Mostrar el gráfico\n",
    "fig.show()"
   ]
  }
 ],
 "metadata": {
  "kernelspec": {
   "display_name": "base",
   "language": "python",
   "name": "python3"
  },
  "language_info": {
   "codemirror_mode": {
    "name": "ipython",
    "version": 3
   },
   "file_extension": ".py",
   "mimetype": "text/x-python",
   "name": "python",
   "nbconvert_exporter": "python",
   "pygments_lexer": "ipython3",
   "version": "3.11.7"
  }
 },
 "nbformat": 4,
 "nbformat_minor": 2
}
